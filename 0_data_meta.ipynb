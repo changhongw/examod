{
 "cells": [
  {
   "cell_type": "markdown",
   "id": "c05a5e7f",
   "metadata": {},
   "source": [
    "# SOL-PMT meta\n",
    "Create meta for SOL-PMT from the original SOL-O.9HQ dataset. SOL-PMT: subset of SOL-O.9HQ, comprising 5 types of periodic modulation techniques.\n",
    "1. Check meta information of the original SOL-O.9HQ dataset\n",
    "2. Collect PMTs and generate meta, including label and data split\n",
    "3. Content investigation of SOL-PMT: playing technique histograms, pitch range and number of mutes"
   ]
  },
  {
   "cell_type": "code",
   "execution_count": 1,
   "id": "0a4f6451",
   "metadata": {},
   "outputs": [],
   "source": [
    "import pandas as pd\n",
    "import os\n",
    "from fnmatch import fnmatch\n",
    "import collections as cl\n",
    "import shutil\n",
    "import librosa\n",
    "import matplotlib.pyplot as plt\n",
    "import seaborn as sns\n",
    "import json"
   ]
  },
  {
   "cell_type": "code",
   "execution_count": 2,
   "id": "85783081",
   "metadata": {},
   "outputs": [],
   "source": [
    "# follow paper class order\n",
    "class_map = {'vibrato': 0,\n",
    "             'trill': 1,\n",
    "             'tremolo': 2,\n",
    "             'bisbigliando': 3,\n",
    "             'flatterzunge': 4\n",
    "             }\n",
    "             \n",
    "# class abbrevation map\n",
    "class_abbrv = {'vibrato': 'vib',\n",
    "               'trill': 'trill',\n",
    "               'tremolo': 'trem',\n",
    "               'bisbigliando': 'bisb',\n",
    "               'flatterzunge': 'flatt'\n",
    "              }"
   ]
  },
  {
   "cell_type": "markdown",
   "id": "dc1ae182",
   "metadata": {},
   "source": [
    "## SOL-0.9HQ meta"
   ]
  },
  {
   "cell_type": "code",
   "execution_count": 3,
   "id": "d340589b",
   "metadata": {},
   "outputs": [
    {
     "name": "stdout",
     "output_type": "stream",
     "text": [
      "Number of audio files: 25466\n"
     ]
    }
   ],
   "source": [
    "# find all .wav files in subdirectories\n",
    "data_dir = '../datasets/SOL_0.9_HQ/'\n",
    "target = \"*.wav\"\n",
    "wav_files = []   # create a list for the files\n",
    "for path, subdirs, files in os.walk(data_dir):\n",
    "    for name in files:\n",
    "        if fnmatch(name, target):\n",
    "            wav_files.append(os.path.join(path, name))  \n",
    "print('Number of audio files:', format(len(wav_files)))\n",
    "\n",
    "for k in range(len(wav_files)):\n",
    "    wav_files[k] = wav_files[k].replace(data_dir, '')"
   ]
  },
  {
   "cell_type": "code",
   "execution_count": 4,
   "id": "22de533a",
   "metadata": {},
   "outputs": [
    {
     "data": {
      "text/plain": [
       "1894"
      ]
     },
     "execution_count": 4,
     "metadata": {},
     "output_type": "execute_result"
    }
   ],
   "source": [
    "# find technique names with \"non\", e.g \"nonvib\" = non-vibrato\n",
    "tech_with_non = []\n",
    "for wav in wav_files:\n",
    "    if 'non' in wav:\n",
    "        tech_with_non.append(os.path.normpath(wav).split(os.sep)[-2])\n",
    "len(tech_with_non)"
   ]
  },
  {
   "cell_type": "code",
   "execution_count": 5,
   "id": "f87cb6fe",
   "metadata": {},
   "outputs": [
    {
     "data": {
      "text/plain": [
       "143"
      ]
     },
     "execution_count": 5,
     "metadata": {},
     "output_type": "execute_result"
    }
   ],
   "source": [
    "# create a DataFrame to save dataset meta information\n",
    "meta = pd.DataFrame(columns=['instrument family', 'instrument', \n",
    "        'technique original', 'modulation technique', 'file_name'])\n",
    "\n",
    "meta['instrument family'] = [os.path.normpath(wav).split(os.sep)[0] for wav in wav_files]\n",
    "meta['instrument'] = [os.path.normpath(wav).split(os.sep)[1] for wav in wav_files]\n",
    "meta['technique original'] = [os.path.normpath(wav).split(os.sep)[2] for wav in wav_files]\n",
    "meta['modulation technique'] = ['other'] * len(meta)\n",
    "meta['file_name'] = [os.path.normpath(wav).split(os.sep)[-1] for wav in wav_files]\n",
    "len(meta['technique original'].unique())"
   ]
  },
  {
   "cell_type": "code",
   "execution_count": 6,
   "id": "1be5d48e",
   "metadata": {},
   "outputs": [],
   "source": [
    "# get modulation technique based on file name\n",
    "\n",
    "for k in range(len(meta)):\n",
    "    for class_name in class_abbrv:\n",
    "        if class_abbrv[class_name] in meta['file_name'][k]:\n",
    "            if 'nonvib' in meta['file_name'][k]:\n",
    "                meta['modulation technique'][k] = 'other'\n",
    "            else:\n",
    "                meta['modulation technique'][k] = class_name"
   ]
  },
  {
   "cell_type": "markdown",
   "id": "582e1484",
   "metadata": {},
   "source": [
    "## SOL-PMT"
   ]
  },
  {
   "cell_type": "code",
   "execution_count": 7,
   "id": "b73dece9",
   "metadata": {},
   "outputs": [
    {
     "data": {
      "text/html": [
       "<div>\n",
       "<style scoped>\n",
       "    .dataframe tbody tr th:only-of-type {\n",
       "        vertical-align: middle;\n",
       "    }\n",
       "\n",
       "    .dataframe tbody tr th {\n",
       "        vertical-align: top;\n",
       "    }\n",
       "\n",
       "    .dataframe thead th {\n",
       "        text-align: right;\n",
       "    }\n",
       "</style>\n",
       "<table border=\"1\" class=\"dataframe\">\n",
       "  <thead>\n",
       "    <tr style=\"text-align: right;\">\n",
       "      <th></th>\n",
       "      <th>instrument family</th>\n",
       "      <th>instrument</th>\n",
       "      <th>technique original</th>\n",
       "      <th>modulation technique</th>\n",
       "      <th>file_name</th>\n",
       "    </tr>\n",
       "  </thead>\n",
       "  <tbody>\n",
       "    <tr>\n",
       "      <th>0</th>\n",
       "      <td>Trombones</td>\n",
       "      <td>Tenor-Trombone-wah</td>\n",
       "      <td>flatterzunge-open</td>\n",
       "      <td>flatterzunge</td>\n",
       "      <td>TTbn+W-flatt-open-F#2-mf.wav</td>\n",
       "    </tr>\n",
       "    <tr>\n",
       "      <th>1</th>\n",
       "      <td>Trombones</td>\n",
       "      <td>Tenor-Trombone-wah</td>\n",
       "      <td>flatterzunge-open</td>\n",
       "      <td>flatterzunge</td>\n",
       "      <td>TTbn+W-flatt-open-A#3-mf.wav</td>\n",
       "    </tr>\n",
       "    <tr>\n",
       "      <th>2</th>\n",
       "      <td>Trombones</td>\n",
       "      <td>Tenor-Trombone-wah</td>\n",
       "      <td>flatterzunge-open</td>\n",
       "      <td>flatterzunge</td>\n",
       "      <td>TTbn+W-flatt-open-C4-mf.wav</td>\n",
       "    </tr>\n",
       "    <tr>\n",
       "      <th>3</th>\n",
       "      <td>Trombones</td>\n",
       "      <td>Tenor-Trombone-wah</td>\n",
       "      <td>flatterzunge-open</td>\n",
       "      <td>flatterzunge</td>\n",
       "      <td>TTbn+W-flatt-open-E3-mf.wav</td>\n",
       "    </tr>\n",
       "    <tr>\n",
       "      <th>4</th>\n",
       "      <td>Trombones</td>\n",
       "      <td>Tenor-Trombone-wah</td>\n",
       "      <td>flatterzunge-open</td>\n",
       "      <td>flatterzunge</td>\n",
       "      <td>TTbn+W-flatt-open-G#4-mf.wav</td>\n",
       "    </tr>\n",
       "    <tr>\n",
       "      <th>...</th>\n",
       "      <td>...</td>\n",
       "      <td>...</td>\n",
       "      <td>...</td>\n",
       "      <td>...</td>\n",
       "      <td>...</td>\n",
       "    </tr>\n",
       "    <tr>\n",
       "      <th>5559</th>\n",
       "      <td>Strings</td>\n",
       "      <td>Viola-sordina</td>\n",
       "      <td>tremolo</td>\n",
       "      <td>tremolo</td>\n",
       "      <td>Va+S-trem-A#4-mf-2c.wav</td>\n",
       "    </tr>\n",
       "    <tr>\n",
       "      <th>5560</th>\n",
       "      <td>Strings</td>\n",
       "      <td>Viola-sordina</td>\n",
       "      <td>tremolo</td>\n",
       "      <td>tremolo</td>\n",
       "      <td>Va+S-trem-G4-mf-3c.wav</td>\n",
       "    </tr>\n",
       "    <tr>\n",
       "      <th>5561</th>\n",
       "      <td>Strings</td>\n",
       "      <td>Viola-sordina</td>\n",
       "      <td>tremolo</td>\n",
       "      <td>tremolo</td>\n",
       "      <td>Va+S-trem-C#3-mf-4c.wav</td>\n",
       "    </tr>\n",
       "    <tr>\n",
       "      <th>5562</th>\n",
       "      <td>Strings</td>\n",
       "      <td>Viola-sordina</td>\n",
       "      <td>tremolo</td>\n",
       "      <td>tremolo</td>\n",
       "      <td>Va+S-trem-F4-mf-2c.wav</td>\n",
       "    </tr>\n",
       "    <tr>\n",
       "      <th>5563</th>\n",
       "      <td>Strings</td>\n",
       "      <td>Viola-sordina</td>\n",
       "      <td>tremolo</td>\n",
       "      <td>tremolo</td>\n",
       "      <td>Va+S-trem-B3-mf-3c.wav</td>\n",
       "    </tr>\n",
       "  </tbody>\n",
       "</table>\n",
       "<p>5564 rows × 5 columns</p>\n",
       "</div>"
      ],
      "text/plain": [
       "     instrument family          instrument technique original  \\\n",
       "0            Trombones  Tenor-Trombone-wah  flatterzunge-open   \n",
       "1            Trombones  Tenor-Trombone-wah  flatterzunge-open   \n",
       "2            Trombones  Tenor-Trombone-wah  flatterzunge-open   \n",
       "3            Trombones  Tenor-Trombone-wah  flatterzunge-open   \n",
       "4            Trombones  Tenor-Trombone-wah  flatterzunge-open   \n",
       "...                ...                 ...                ...   \n",
       "5559           Strings       Viola-sordina            tremolo   \n",
       "5560           Strings       Viola-sordina            tremolo   \n",
       "5561           Strings       Viola-sordina            tremolo   \n",
       "5562           Strings       Viola-sordina            tremolo   \n",
       "5563           Strings       Viola-sordina            tremolo   \n",
       "\n",
       "     modulation technique                     file_name  \n",
       "0            flatterzunge  TTbn+W-flatt-open-F#2-mf.wav  \n",
       "1            flatterzunge  TTbn+W-flatt-open-A#3-mf.wav  \n",
       "2            flatterzunge   TTbn+W-flatt-open-C4-mf.wav  \n",
       "3            flatterzunge   TTbn+W-flatt-open-E3-mf.wav  \n",
       "4            flatterzunge  TTbn+W-flatt-open-G#4-mf.wav  \n",
       "...                   ...                           ...  \n",
       "5559              tremolo       Va+S-trem-A#4-mf-2c.wav  \n",
       "5560              tremolo        Va+S-trem-G4-mf-3c.wav  \n",
       "5561              tremolo       Va+S-trem-C#3-mf-4c.wav  \n",
       "5562              tremolo        Va+S-trem-F4-mf-2c.wav  \n",
       "5563              tremolo        Va+S-trem-B3-mf-3c.wav  \n",
       "\n",
       "[5564 rows x 5 columns]"
      ]
     },
     "execution_count": 7,
     "metadata": {},
     "output_type": "execute_result"
    }
   ],
   "source": [
    "meta_PMT = meta.loc[meta[\"modulation technique\"] != 'other']\n",
    "meta_PMT = meta_PMT.reset_index(drop=True)\n",
    "meta_PMT"
   ]
  },
  {
   "cell_type": "code",
   "execution_count": 8,
   "id": "fb676589",
   "metadata": {},
   "outputs": [
    {
     "data": {
      "text/plain": [
       "Counter({'flatterzunge': 1523,\n",
       "         'vibrato': 190,\n",
       "         'trill': 1035,\n",
       "         'tremolo': 2530,\n",
       "         'bisbigliando': 286})"
      ]
     },
     "execution_count": 8,
     "metadata": {},
     "output_type": "execute_result"
    }
   ],
   "source": [
    "cl.Counter(meta_PMT['modulation technique'])"
   ]
  },
  {
   "cell_type": "markdown",
   "id": "3f503c17",
   "metadata": {},
   "source": [
    "## create data split according to meta"
   ]
  },
  {
   "cell_type": "code",
   "execution_count": 9,
   "id": "dad3df6f",
   "metadata": {},
   "outputs": [
    {
     "data": {
      "text/html": [
       "<div>\n",
       "<style scoped>\n",
       "    .dataframe tbody tr th:only-of-type {\n",
       "        vertical-align: middle;\n",
       "    }\n",
       "\n",
       "    .dataframe tbody tr th {\n",
       "        vertical-align: top;\n",
       "    }\n",
       "\n",
       "    .dataframe thead th {\n",
       "        text-align: right;\n",
       "    }\n",
       "</style>\n",
       "<table border=\"1\" class=\"dataframe\">\n",
       "  <thead>\n",
       "    <tr style=\"text-align: right;\">\n",
       "      <th></th>\n",
       "      <th>instrument family</th>\n",
       "      <th>instrument</th>\n",
       "      <th>technique original</th>\n",
       "      <th>modulation technique</th>\n",
       "      <th>file_name</th>\n",
       "    </tr>\n",
       "  </thead>\n",
       "  <tbody>\n",
       "    <tr>\n",
       "      <th>871</th>\n",
       "      <td>Trumpets</td>\n",
       "      <td>Trumpet-C-wah</td>\n",
       "      <td>flatterzunge-open</td>\n",
       "      <td>flatterzunge</td>\n",
       "      <td>TpC+W-flatt-open-G5-mf.wav</td>\n",
       "    </tr>\n",
       "    <tr>\n",
       "      <th>2200</th>\n",
       "      <td>Tubas</td>\n",
       "      <td>Bass-Tuba</td>\n",
       "      <td>flatterzunge</td>\n",
       "      <td>flatterzunge</td>\n",
       "      <td>BBTb-flatt-C#2-pp.wav</td>\n",
       "    </tr>\n",
       "    <tr>\n",
       "      <th>1427</th>\n",
       "      <td>Horns</td>\n",
       "      <td>Horn</td>\n",
       "      <td>flatterzunge</td>\n",
       "      <td>flatterzunge</td>\n",
       "      <td>Hn-flatt-B3-pp.wav</td>\n",
       "    </tr>\n",
       "    <tr>\n",
       "      <th>5159</th>\n",
       "      <td>Strings</td>\n",
       "      <td>Viola</td>\n",
       "      <td>tremolo</td>\n",
       "      <td>tremolo</td>\n",
       "      <td>Va-trem-A#4-ff-3c.wav</td>\n",
       "    </tr>\n",
       "    <tr>\n",
       "      <th>1185</th>\n",
       "      <td>PluckedStrings</td>\n",
       "      <td>Harp</td>\n",
       "      <td>bisbigliando-with-stick</td>\n",
       "      <td>bisbigliando</td>\n",
       "      <td>Hp-bisb+stick-A#5-mf.wav</td>\n",
       "    </tr>\n",
       "    <tr>\n",
       "      <th>...</th>\n",
       "      <td>...</td>\n",
       "      <td>...</td>\n",
       "      <td>...</td>\n",
       "      <td>...</td>\n",
       "      <td>...</td>\n",
       "    </tr>\n",
       "    <tr>\n",
       "      <th>4931</th>\n",
       "      <td>Strings</td>\n",
       "      <td>Viola</td>\n",
       "      <td>artificial-harmonic-tremolo</td>\n",
       "      <td>tremolo</td>\n",
       "      <td>Va-art-harm-trem-A#5-mf-4c.wav</td>\n",
       "    </tr>\n",
       "    <tr>\n",
       "      <th>3264</th>\n",
       "      <td>Strings</td>\n",
       "      <td>Violin-sordina</td>\n",
       "      <td>tremolo</td>\n",
       "      <td>tremolo</td>\n",
       "      <td>Vn+S-trem-A4-pp-2c.wav</td>\n",
       "    </tr>\n",
       "    <tr>\n",
       "      <th>1653</th>\n",
       "      <td>Horns</td>\n",
       "      <td>Horn</td>\n",
       "      <td>flatterzunge-to-ordinario</td>\n",
       "      <td>flatterzunge</td>\n",
       "      <td>Hn-flatt_ord-F3-f.wav</td>\n",
       "    </tr>\n",
       "    <tr>\n",
       "      <th>2607</th>\n",
       "      <td>Strings</td>\n",
       "      <td>Violin</td>\n",
       "      <td>trill-minor-second-up</td>\n",
       "      <td>trill</td>\n",
       "      <td>Vn-trill-min2-E5-mf-1c.wav</td>\n",
       "    </tr>\n",
       "    <tr>\n",
       "      <th>2732</th>\n",
       "      <td>Strings</td>\n",
       "      <td>Violin</td>\n",
       "      <td>trill-major-second-up</td>\n",
       "      <td>trill</td>\n",
       "      <td>Vn-trill-maj2-C7-mf-1c.wav</td>\n",
       "    </tr>\n",
       "  </tbody>\n",
       "</table>\n",
       "<p>5564 rows × 5 columns</p>\n",
       "</div>"
      ],
      "text/plain": [
       "     instrument family      instrument           technique original  \\\n",
       "871           Trumpets   Trumpet-C-wah            flatterzunge-open   \n",
       "2200             Tubas       Bass-Tuba                 flatterzunge   \n",
       "1427             Horns            Horn                 flatterzunge   \n",
       "5159           Strings           Viola                      tremolo   \n",
       "1185    PluckedStrings            Harp      bisbigliando-with-stick   \n",
       "...                ...             ...                          ...   \n",
       "4931           Strings           Viola  artificial-harmonic-tremolo   \n",
       "3264           Strings  Violin-sordina                      tremolo   \n",
       "1653             Horns            Horn    flatterzunge-to-ordinario   \n",
       "2607           Strings          Violin        trill-minor-second-up   \n",
       "2732           Strings          Violin        trill-major-second-up   \n",
       "\n",
       "     modulation technique                       file_name  \n",
       "871          flatterzunge      TpC+W-flatt-open-G5-mf.wav  \n",
       "2200         flatterzunge           BBTb-flatt-C#2-pp.wav  \n",
       "1427         flatterzunge              Hn-flatt-B3-pp.wav  \n",
       "5159              tremolo           Va-trem-A#4-ff-3c.wav  \n",
       "1185         bisbigliando        Hp-bisb+stick-A#5-mf.wav  \n",
       "...                   ...                             ...  \n",
       "4931              tremolo  Va-art-harm-trem-A#5-mf-4c.wav  \n",
       "3264              tremolo          Vn+S-trem-A4-pp-2c.wav  \n",
       "1653         flatterzunge           Hn-flatt_ord-F3-f.wav  \n",
       "2607                trill      Vn-trill-min2-E5-mf-1c.wav  \n",
       "2732                trill      Vn-trill-maj2-C7-mf-1c.wav  \n",
       "\n",
       "[5564 rows x 5 columns]"
      ]
     },
     "execution_count": 9,
     "metadata": {},
     "output_type": "execute_result"
    }
   ],
   "source": [
    "df = meta_PMT\n",
    "df_split = pd.DataFrame(columns=['instrument family', 'instrument', \n",
    "        'technique original', 'modulation technique', 'file_name', 'subset', 'label'])\n",
    "df_shuffled = df.sample(frac=1, random_state=0)\n",
    "df_shuffled"
   ]
  },
  {
   "cell_type": "code",
   "execution_count": 10,
   "id": "84eace74",
   "metadata": {},
   "outputs": [],
   "source": [
    "for tech in class_map:\n",
    "    df_tech = df_shuffled[df_shuffled['modulation technique'] == tech] # shuffle dataset before spliting\n",
    "    # split each class into training-validation-test by ratio 6:2:2\n",
    "    for inst in df_tech['instrument'].unique():\n",
    "        df_inst_class = df_tech[df_tech['instrument']==inst].reset_index(drop=True)\n",
    "        df_inst_class['subset'] = ['training'] * int(len(df_inst_class) * 0.6) + \\\n",
    "                               ['validation'] * int(len(df_inst_class) * 0.2) + \\\n",
    "                               ['test'] * (len(df_inst_class) - int(len(df_inst_class) * 0.6) - int(len(df_inst_class) * 0.2))\n",
    "        df_inst_class['label'] = [class_map[tech]] * len(df_inst_class)\n",
    "        df_split = df_split.append(df_inst_class, ignore_index=True)"
   ]
  },
  {
   "cell_type": "code",
   "execution_count": 11,
   "id": "0ba03590",
   "metadata": {},
   "outputs": [
    {
     "data": {
      "text/plain": [
       "Counter({'vibrato': 190,\n",
       "         'trill': 1035,\n",
       "         'tremolo': 2530,\n",
       "         'bisbigliando': 286,\n",
       "         'flatterzunge': 1523})"
      ]
     },
     "execution_count": 11,
     "metadata": {},
     "output_type": "execute_result"
    }
   ],
   "source": [
    "cl.Counter(df_split['modulation technique'])"
   ]
  },
  {
   "cell_type": "code",
   "execution_count": 12,
   "id": "3f450e6b",
   "metadata": {},
   "outputs": [
    {
     "data": {
      "text/html": [
       "<div>\n",
       "<style scoped>\n",
       "    .dataframe tbody tr th:only-of-type {\n",
       "        vertical-align: middle;\n",
       "    }\n",
       "\n",
       "    .dataframe tbody tr th {\n",
       "        vertical-align: top;\n",
       "    }\n",
       "\n",
       "    .dataframe thead th {\n",
       "        text-align: right;\n",
       "    }\n",
       "</style>\n",
       "<table border=\"1\" class=\"dataframe\">\n",
       "  <thead>\n",
       "    <tr style=\"text-align: right;\">\n",
       "      <th></th>\n",
       "      <th>instrument family</th>\n",
       "      <th>instrument</th>\n",
       "      <th>technique original</th>\n",
       "      <th>modulation technique</th>\n",
       "      <th>file_name</th>\n",
       "      <th>subset</th>\n",
       "      <th>label</th>\n",
       "    </tr>\n",
       "  </thead>\n",
       "  <tbody>\n",
       "    <tr>\n",
       "      <th>0</th>\n",
       "      <td>Bassoons</td>\n",
       "      <td>Bassoon</td>\n",
       "      <td>vibrato</td>\n",
       "      <td>vibrato</td>\n",
       "      <td>Bn-vib-D2-mf.wav</td>\n",
       "      <td>training</td>\n",
       "      <td>0</td>\n",
       "    </tr>\n",
       "    <tr>\n",
       "      <th>1</th>\n",
       "      <td>Bassoons</td>\n",
       "      <td>Bassoon</td>\n",
       "      <td>vibrato</td>\n",
       "      <td>vibrato</td>\n",
       "      <td>Bn-vib-A#3-mf.wav</td>\n",
       "      <td>training</td>\n",
       "      <td>0</td>\n",
       "    </tr>\n",
       "    <tr>\n",
       "      <th>2</th>\n",
       "      <td>Bassoons</td>\n",
       "      <td>Bassoon</td>\n",
       "      <td>vibrato</td>\n",
       "      <td>vibrato</td>\n",
       "      <td>Bn-vib-D#5-mf.wav</td>\n",
       "      <td>training</td>\n",
       "      <td>0</td>\n",
       "    </tr>\n",
       "    <tr>\n",
       "      <th>3</th>\n",
       "      <td>Bassoons</td>\n",
       "      <td>Bassoon</td>\n",
       "      <td>vibrato</td>\n",
       "      <td>vibrato</td>\n",
       "      <td>Bn-vib-E2-mf.wav</td>\n",
       "      <td>training</td>\n",
       "      <td>0</td>\n",
       "    </tr>\n",
       "    <tr>\n",
       "      <th>4</th>\n",
       "      <td>Bassoons</td>\n",
       "      <td>Bassoon</td>\n",
       "      <td>vibrato</td>\n",
       "      <td>vibrato</td>\n",
       "      <td>Bn-vib-F#3-mf.wav</td>\n",
       "      <td>training</td>\n",
       "      <td>0</td>\n",
       "    </tr>\n",
       "    <tr>\n",
       "      <th>...</th>\n",
       "      <td>...</td>\n",
       "      <td>...</td>\n",
       "      <td>...</td>\n",
       "      <td>...</td>\n",
       "      <td>...</td>\n",
       "      <td>...</td>\n",
       "      <td>...</td>\n",
       "    </tr>\n",
       "    <tr>\n",
       "      <th>5559</th>\n",
       "      <td>Bassoons</td>\n",
       "      <td>Bassoon</td>\n",
       "      <td>flatterzunge</td>\n",
       "      <td>flatterzunge</td>\n",
       "      <td>Bn-flatt-A4-mf.wav</td>\n",
       "      <td>test</td>\n",
       "      <td>4</td>\n",
       "    </tr>\n",
       "    <tr>\n",
       "      <th>5560</th>\n",
       "      <td>Bassoons</td>\n",
       "      <td>Bassoon</td>\n",
       "      <td>flatterzunge</td>\n",
       "      <td>flatterzunge</td>\n",
       "      <td>Bn-flatt-G#3-mf.wav</td>\n",
       "      <td>test</td>\n",
       "      <td>4</td>\n",
       "    </tr>\n",
       "    <tr>\n",
       "      <th>5561</th>\n",
       "      <td>Bassoons</td>\n",
       "      <td>Bassoon</td>\n",
       "      <td>flatterzunge</td>\n",
       "      <td>flatterzunge</td>\n",
       "      <td>Bn-flatt-C5-mf.wav</td>\n",
       "      <td>test</td>\n",
       "      <td>4</td>\n",
       "    </tr>\n",
       "    <tr>\n",
       "      <th>5562</th>\n",
       "      <td>Bassoons</td>\n",
       "      <td>Bassoon</td>\n",
       "      <td>flatterzunge</td>\n",
       "      <td>flatterzunge</td>\n",
       "      <td>Bn-flatt-G2-mf.wav</td>\n",
       "      <td>test</td>\n",
       "      <td>4</td>\n",
       "    </tr>\n",
       "    <tr>\n",
       "      <th>5563</th>\n",
       "      <td>Bassoons</td>\n",
       "      <td>Bassoon</td>\n",
       "      <td>flatterzunge</td>\n",
       "      <td>flatterzunge</td>\n",
       "      <td>Bn-flatt-D#5-mf.wav</td>\n",
       "      <td>test</td>\n",
       "      <td>4</td>\n",
       "    </tr>\n",
       "  </tbody>\n",
       "</table>\n",
       "<p>5564 rows × 7 columns</p>\n",
       "</div>"
      ],
      "text/plain": [
       "     instrument family instrument technique original modulation technique  \\\n",
       "0             Bassoons    Bassoon            vibrato              vibrato   \n",
       "1             Bassoons    Bassoon            vibrato              vibrato   \n",
       "2             Bassoons    Bassoon            vibrato              vibrato   \n",
       "3             Bassoons    Bassoon            vibrato              vibrato   \n",
       "4             Bassoons    Bassoon            vibrato              vibrato   \n",
       "...                ...        ...                ...                  ...   \n",
       "5559          Bassoons    Bassoon       flatterzunge         flatterzunge   \n",
       "5560          Bassoons    Bassoon       flatterzunge         flatterzunge   \n",
       "5561          Bassoons    Bassoon       flatterzunge         flatterzunge   \n",
       "5562          Bassoons    Bassoon       flatterzunge         flatterzunge   \n",
       "5563          Bassoons    Bassoon       flatterzunge         flatterzunge   \n",
       "\n",
       "                file_name    subset label  \n",
       "0        Bn-vib-D2-mf.wav  training     0  \n",
       "1       Bn-vib-A#3-mf.wav  training     0  \n",
       "2       Bn-vib-D#5-mf.wav  training     0  \n",
       "3        Bn-vib-E2-mf.wav  training     0  \n",
       "4       Bn-vib-F#3-mf.wav  training     0  \n",
       "...                   ...       ...   ...  \n",
       "5559   Bn-flatt-A4-mf.wav      test     4  \n",
       "5560  Bn-flatt-G#3-mf.wav      test     4  \n",
       "5561   Bn-flatt-C5-mf.wav      test     4  \n",
       "5562   Bn-flatt-G2-mf.wav      test     4  \n",
       "5563  Bn-flatt-D#5-mf.wav      test     4  \n",
       "\n",
       "[5564 rows x 7 columns]"
      ]
     },
     "execution_count": 12,
     "metadata": {},
     "output_type": "execute_result"
    }
   ],
   "source": [
    "meta_PMT = df_split\n",
    "meta_PMT"
   ]
  },
  {
   "cell_type": "markdown",
   "id": "731cf1a5",
   "metadata": {},
   "source": [
    "### pitch range of SOL-PMT"
   ]
  },
  {
   "cell_type": "code",
   "execution_count": 13,
   "id": "84a1b34e",
   "metadata": {},
   "outputs": [
    {
     "data": {
      "text/plain": [
       "83"
      ]
     },
     "execution_count": 13,
     "metadata": {},
     "output_type": "execute_result"
    }
   ],
   "source": [
    "keys = ['C', 'D', 'E', 'F', 'G', 'A', 'B']\n",
    "pitch = []\n",
    "\n",
    "for wav in df['file_name']:\n",
    "    if set(keys).intersection(wav.split('-')[-2]):\n",
    "        pitch.append(wav.split('-')[-2])\n",
    "    elif set(keys).intersection(wav.split('-')[-3]):\n",
    "        pitch.append(wav.split('-')[-3])\n",
    "\n",
    "len(set(pitch))"
   ]
  },
  {
   "cell_type": "code",
   "execution_count": 14,
   "id": "b20b37f2",
   "metadata": {},
   "outputs": [
    {
     "name": "stdout",
     "output_type": "stream",
     "text": [
      "C♯1 34.64782887210901\n",
      "B7 3951.066410048992\n"
     ]
    }
   ],
   "source": [
    "freq = [librosa.note_to_hz(item) for item in pitch]\n",
    "print(librosa.hz_to_note(min(freq)), min(freq))\n",
    "print(librosa.hz_to_note(max(freq)), max(freq))"
   ]
  },
  {
   "cell_type": "markdown",
   "id": "a5350309",
   "metadata": {},
   "source": [
    "### histogram over instruments"
   ]
  },
  {
   "cell_type": "code",
   "execution_count": 15,
   "id": "6cc46d83",
   "metadata": {},
   "outputs": [
    {
     "data": {
      "image/png": "[encoded data removed]",
      "text/plain": [
       "<Figure size 432x576 with 1 Axes>"
      ]
     },
     "metadata": {},
     "output_type": "display_data"
    }
   ],
   "source": [
    "plt.rcParams['figure.constrained_layout.use'] = True\n",
    "sns.set_theme(context='notebook', style='whitegrid')\n",
    "plt.figure(figsize=(6,8))\n",
    "ax = sns.histplot(data=meta_PMT, y=\"instrument\", hue=\"modulation technique\", multiple=\"stack\")\n",
    "plt.ylim(-.5, 29.5)\n",
    "# plt.savefig('results/playtech_histogram_instruments.pdf')\n",
    "plt.savefig('results/playtech_histogram_instruments.png')"
   ]
  },
  {
   "cell_type": "code",
   "execution_count": 16,
   "id": "a28b1950",
   "metadata": {},
   "outputs": [
    {
     "data": {
      "image/png": "[encoded data removed]",
      "text/plain": [
       "<Figure size 432x360 with 1 Axes>"
      ]
     },
     "metadata": {},
     "output_type": "display_data"
    }
   ],
   "source": [
    "plt.rcParams['figure.constrained_layout.use'] = True\n",
    "sns.set_theme(context='notebook', style='whitegrid')\n",
    "plt.figure(figsize=(6,5))\n",
    "ax = sns.histplot(data=meta_PMT, y=\"instrument family\", hue=\"modulation technique\", multiple=\"stack\")\n",
    "plt.ylim(-.5, 11.5)\n",
    "# plt.savefig('results/playtech_histogram_instrufamily.pdf')\n",
    "plt.savefig('results/playtech_histogram_instrufamily.png')"
   ]
  },
  {
   "cell_type": "markdown",
   "id": "3a686842",
   "metadata": {},
   "source": [
    "## check mute "
   ]
  },
  {
   "cell_type": "code",
   "execution_count": 17,
   "id": "931acf50",
   "metadata": {},
   "outputs": [
    {
     "name": "stdout",
     "output_type": "stream",
     "text": [
      "Number of audio files: 25466\n"
     ]
    }
   ],
   "source": [
    "# find all .wav files\n",
    "target = \"*.wav\"\n",
    "wav_files = [] \n",
    "for path, subdirs, files in os.walk(data_dir):\n",
    "    for name in files:\n",
    "        if fnmatch(name, target):\n",
    "            wav_files.append(os.path.join(path, name))   \n",
    "print('Number of audio files:', format(len(wav_files)))\n",
    "\n",
    "for k in range(len(wav_files)):\n",
    "    wav_files[k] = wav_files[k].replace(data_dir, '')"
   ]
  },
  {
   "cell_type": "code",
   "execution_count": 18,
   "id": "4373db54",
   "metadata": {},
   "outputs": [
    {
     "data": {
      "text/plain": [
       "Counter({None: 23296,\n",
       "         'Oboe-sordina': 36,\n",
       "         'Horn-sordina': 87,\n",
       "         'Violin-sordina': 574,\n",
       "         'Violoncello-sordina-piombo': 143,\n",
       "         'Violoncello-sordina': 351,\n",
       "         'Contrabass-sordina': 351,\n",
       "         'Violin-sordina-piombo': 123,\n",
       "         'Viola-sordina-piombo': 125,\n",
       "         'Viola-sordina': 380})"
      ]
     },
     "execution_count": 18,
     "metadata": {},
     "output_type": "execute_result"
    }
   ],
   "source": [
    "# \"sordina\" means \"mute\" in Italian\n",
    "mute = [os.path.normpath(file).split(os.sep)[1] if 'sordina' in file else None for file in wav_files]\n",
    "cl.Counter(mute)"
   ]
  },
  {
   "cell_type": "markdown",
   "id": "4e8bc2a2",
   "metadata": {},
   "source": [
    "## create a separate directory for SOL-PMT"
   ]
  },
  {
   "cell_type": "code",
   "execution_count": 3,
   "id": "d7c254a0",
   "metadata": {},
   "outputs": [],
   "source": [
    "modu_dir = '../datasets/SOL-0.9HQ-PMT/'\n",
    "modu_wav = [os.path.join(row['instrument family'], row['instrument'], row['technique original'],\n",
    "            row['file_name']) for idx, row in meta_PMT.iterrows()]"
   ]
  },
  {
   "cell_type": "code",
   "execution_count": 24,
   "id": "7495a8ce",
   "metadata": {},
   "outputs": [],
   "source": [
    "wav_dir = set([os.path.split(wav)[0] for wav in modu_wav])\n",
    "for wav in wav_dir:\n",
    "    os.makedirs(modu_dir + wav) \n",
    "\n",
    "for wav in modu_wav:\n",
    "    shutil.copy(data_dir + wav, modu_dir + wav)"
   ]
  },
  {
   "cell_type": "code",
   "execution_count": 22,
   "id": "ca96d01b",
   "metadata": {},
   "outputs": [
    {
     "name": "stdout",
     "output_type": "stream",
     "text": [
      "Number of audio files: 5564\n"
     ]
    }
   ],
   "source": [
    "# check number of modulation technique audio files\n",
    "target = \"*.wav\"\n",
    "wav_files = []   \n",
    "for path, subdirs, files in os.walk(modu_dir):\n",
    "    for name in files:\n",
    "        if fnmatch(name, target):\n",
    "            wav_files.append(os.path.join(path, name))   \n",
    "print('Number of audio files:', format(len(wav_files)))"
   ]
  },
  {
   "cell_type": "code",
   "execution_count": 14,
   "id": "72371014",
   "metadata": {},
   "outputs": [
    {
     "data": {
      "text/html": [
       "<div>\n",
       "<style scoped>\n",
       "    .dataframe tbody tr th:only-of-type {\n",
       "        vertical-align: middle;\n",
       "    }\n",
       "\n",
       "    .dataframe tbody tr th {\n",
       "        vertical-align: top;\n",
       "    }\n",
       "\n",
       "    .dataframe thead th {\n",
       "        text-align: right;\n",
       "    }\n",
       "</style>\n",
       "<table border=\"1\" class=\"dataframe\">\n",
       "  <thead>\n",
       "    <tr style=\"text-align: right;\">\n",
       "      <th></th>\n",
       "      <th>instrument family</th>\n",
       "      <th>instrument</th>\n",
       "      <th>technique original</th>\n",
       "      <th>modulation technique</th>\n",
       "      <th>file_name</th>\n",
       "      <th>subset</th>\n",
       "      <th>label</th>\n",
       "    </tr>\n",
       "  </thead>\n",
       "  <tbody>\n",
       "    <tr>\n",
       "      <th>0</th>\n",
       "      <td>Bassoons</td>\n",
       "      <td>Bassoon</td>\n",
       "      <td>vibrato</td>\n",
       "      <td>vibrato</td>\n",
       "      <td>Bn-vib-D2-mf.wav</td>\n",
       "      <td>training</td>\n",
       "      <td>0</td>\n",
       "    </tr>\n",
       "    <tr>\n",
       "      <th>1</th>\n",
       "      <td>Bassoons</td>\n",
       "      <td>Bassoon</td>\n",
       "      <td>vibrato</td>\n",
       "      <td>vibrato</td>\n",
       "      <td>Bn-vib-A#3-mf.wav</td>\n",
       "      <td>training</td>\n",
       "      <td>0</td>\n",
       "    </tr>\n",
       "    <tr>\n",
       "      <th>2</th>\n",
       "      <td>Bassoons</td>\n",
       "      <td>Bassoon</td>\n",
       "      <td>vibrato</td>\n",
       "      <td>vibrato</td>\n",
       "      <td>Bn-vib-D#5-mf.wav</td>\n",
       "      <td>training</td>\n",
       "      <td>0</td>\n",
       "    </tr>\n",
       "    <tr>\n",
       "      <th>3</th>\n",
       "      <td>Bassoons</td>\n",
       "      <td>Bassoon</td>\n",
       "      <td>vibrato</td>\n",
       "      <td>vibrato</td>\n",
       "      <td>Bn-vib-E2-mf.wav</td>\n",
       "      <td>training</td>\n",
       "      <td>0</td>\n",
       "    </tr>\n",
       "    <tr>\n",
       "      <th>4</th>\n",
       "      <td>Bassoons</td>\n",
       "      <td>Bassoon</td>\n",
       "      <td>vibrato</td>\n",
       "      <td>vibrato</td>\n",
       "      <td>Bn-vib-F#3-mf.wav</td>\n",
       "      <td>training</td>\n",
       "      <td>0</td>\n",
       "    </tr>\n",
       "    <tr>\n",
       "      <th>...</th>\n",
       "      <td>...</td>\n",
       "      <td>...</td>\n",
       "      <td>...</td>\n",
       "      <td>...</td>\n",
       "      <td>...</td>\n",
       "      <td>...</td>\n",
       "      <td>...</td>\n",
       "    </tr>\n",
       "    <tr>\n",
       "      <th>5559</th>\n",
       "      <td>Bassoons</td>\n",
       "      <td>Bassoon</td>\n",
       "      <td>flatterzunge</td>\n",
       "      <td>flatterzunge</td>\n",
       "      <td>Bn-flatt-A4-mf.wav</td>\n",
       "      <td>test</td>\n",
       "      <td>4</td>\n",
       "    </tr>\n",
       "    <tr>\n",
       "      <th>5560</th>\n",
       "      <td>Bassoons</td>\n",
       "      <td>Bassoon</td>\n",
       "      <td>flatterzunge</td>\n",
       "      <td>flatterzunge</td>\n",
       "      <td>Bn-flatt-G#3-mf.wav</td>\n",
       "      <td>test</td>\n",
       "      <td>4</td>\n",
       "    </tr>\n",
       "    <tr>\n",
       "      <th>5561</th>\n",
       "      <td>Bassoons</td>\n",
       "      <td>Bassoon</td>\n",
       "      <td>flatterzunge</td>\n",
       "      <td>flatterzunge</td>\n",
       "      <td>Bn-flatt-C5-mf.wav</td>\n",
       "      <td>test</td>\n",
       "      <td>4</td>\n",
       "    </tr>\n",
       "    <tr>\n",
       "      <th>5562</th>\n",
       "      <td>Bassoons</td>\n",
       "      <td>Bassoon</td>\n",
       "      <td>flatterzunge</td>\n",
       "      <td>flatterzunge</td>\n",
       "      <td>Bn-flatt-G2-mf.wav</td>\n",
       "      <td>test</td>\n",
       "      <td>4</td>\n",
       "    </tr>\n",
       "    <tr>\n",
       "      <th>5563</th>\n",
       "      <td>Bassoons</td>\n",
       "      <td>Bassoon</td>\n",
       "      <td>flatterzunge</td>\n",
       "      <td>flatterzunge</td>\n",
       "      <td>Bn-flatt-D#5-mf.wav</td>\n",
       "      <td>test</td>\n",
       "      <td>4</td>\n",
       "    </tr>\n",
       "  </tbody>\n",
       "</table>\n",
       "<p>5564 rows × 7 columns</p>\n",
       "</div>"
      ],
      "text/plain": [
       "     instrument family instrument technique original modulation technique  \\\n",
       "0             Bassoons    Bassoon            vibrato              vibrato   \n",
       "1             Bassoons    Bassoon            vibrato              vibrato   \n",
       "2             Bassoons    Bassoon            vibrato              vibrato   \n",
       "3             Bassoons    Bassoon            vibrato              vibrato   \n",
       "4             Bassoons    Bassoon            vibrato              vibrato   \n",
       "...                ...        ...                ...                  ...   \n",
       "5559          Bassoons    Bassoon       flatterzunge         flatterzunge   \n",
       "5560          Bassoons    Bassoon       flatterzunge         flatterzunge   \n",
       "5561          Bassoons    Bassoon       flatterzunge         flatterzunge   \n",
       "5562          Bassoons    Bassoon       flatterzunge         flatterzunge   \n",
       "5563          Bassoons    Bassoon       flatterzunge         flatterzunge   \n",
       "\n",
       "                file_name    subset label  \n",
       "0        Bn-vib-D2-mf.wav  training     0  \n",
       "1       Bn-vib-A#3-mf.wav  training     0  \n",
       "2       Bn-vib-D#5-mf.wav  training     0  \n",
       "3        Bn-vib-E2-mf.wav  training     0  \n",
       "4       Bn-vib-F#3-mf.wav  training     0  \n",
       "...                   ...       ...   ...  \n",
       "5559   Bn-flatt-A4-mf.wav      test     4  \n",
       "5560  Bn-flatt-G#3-mf.wav      test     4  \n",
       "5561   Bn-flatt-C5-mf.wav      test     4  \n",
       "5562   Bn-flatt-G2-mf.wav      test     4  \n",
       "5563  Bn-flatt-D#5-mf.wav      test     4  \n",
       "\n",
       "[5564 rows x 7 columns]"
      ]
     },
     "execution_count": 14,
     "metadata": {},
     "output_type": "execute_result"
    }
   ],
   "source": [
    "# save meta_PMT\n",
    "# meta_PMT = meta_PMT.sample(frac=1, random_state=0)\n",
    "meta_PMT.to_csv(modu_dir + 'SOL-0.9HQ-PMT_meta.csv', index=False)\n",
    "meta_PMT"
   ]
  },
  {
   "cell_type": "code",
   "execution_count": 15,
   "id": "0e08c55a",
   "metadata": {},
   "outputs": [
    {
     "name": "stdout",
     "output_type": "stream",
     "text": [
      "3320 1098 1146\n"
     ]
    }
   ],
   "source": [
    "print(len(meta_PMT[meta_PMT['subset'] == 'training']), len(meta_PMT[meta_PMT['subset'] == 'validation']),\n",
    "len(meta_PMT[meta_PMT['subset'] == 'test']))"
   ]
  },
  {
   "cell_type": "code",
   "execution_count": 4,
   "id": "5657c5e9",
   "metadata": {},
   "outputs": [],
   "source": [
    "# save class_abbrevation\n",
    "with open(modu_dir + 'class_abbrevation.json', 'w') as f:\n",
    "    json.dump(class_abbrv, f)"
   ]
  },
  {
   "cell_type": "code",
   "execution_count": null,
   "id": "d4d56ed1",
   "metadata": {},
   "outputs": [],
   "source": []
  }
 ],
 "metadata": {
  "kernelspec": {
   "display_name": "Python 3.9.7 ('base')",
   "language": "python",
   "name": "python3"
  },
  "language_info": {
   "codemirror_mode": {
    "name": "ipython",
    "version": 3
   },
   "file_extension": ".py",
   "mimetype": "text/x-python",
   "name": "python",
   "nbconvert_exporter": "python",
   "pygments_lexer": "ipython3",
   "version": "3.9.7"
  },
  "toc": {
   "base_numbering": 1,
   "nav_menu": {},
   "number_sections": true,
   "sideBar": true,
   "skip_h1_title": false,
   "title_cell": "Table of Contents",
   "title_sidebar": "Contents",
   "toc_cell": false,
   "toc_position": {},
   "toc_section_display": true,
   "toc_window_display": false
  },
  "vscode": {
   "interpreter": {
    "hash": "113c5788f1f4f4dac487f88c89954ee3784c2cc8ad902741070594dd23774f17"
   }
  }
 },
 "nbformat": 4,
 "nbformat_minor": 5
}
